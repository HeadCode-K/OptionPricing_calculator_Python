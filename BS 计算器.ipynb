{
 "cells": [
  {
   "cell_type": "code",
   "execution_count": 12,
   "metadata": {},
   "outputs": [],
   "source": [
    "import math\n",
    "import numpy as np\n",
    "import matplotlib as mpl\n",
    "import matplotlib.pyplot as plt\n",
    "from scipy.integrate import quad"
   ]
  },
  {
   "cell_type": "code",
   "execution_count": 13,
   "metadata": {},
   "outputs": [],
   "source": [
    "#BSM模型定价\n",
    "def dN(x):\n",
    "    ''' Probability density function of standard normal random variable x. '''\n",
    "    return math.exp(-0.5 * x ** 2) / math.sqrt(2 * math.pi)\n",
    "\n",
    "def N(d):\n",
    "    ''' Cumulative density function of standard normal random variable x. '''\n",
    "    return quad(lambda x: dN(x), -20, d, limit=50)[0]\n",
    "\n",
    "def d1f(St, K, t, T, r, div,sigma):\n",
    "    ''' Black-Scholes-Merton d1 function.\n",
    "        Parameters see e.g. BSM_call_value function. '''\n",
    "    d_up = math.log(St / K) + ((r - div + 0.5 * sigma ** 2)*(T - t))\n",
    "    d1 = d_up / (sigma * math.sqrt(T - t))\n",
    "    return d1\n",
    "#\n",
    "# Valuation Functions\n",
    "#\n",
    "def BSM_call_value_descrpition(St, K, t, T, r, div,sigma):\n",
    "    ''' Calculates Black-Scholes-Merton European call option value.\n",
    "    Parameters\n",
    "    ==========\n",
    "    St : float\n",
    "        stock/index level at time t\n",
    "    K : float\n",
    "        strike price\n",
    "    t : float\n",
    "        valuation date\n",
    "    T : float\n",
    "        date of maturity/time-to-maturity if t = 0; T > t\n",
    "    r : float\n",
    "        constant, risk-less short rate\n",
    "    div : float\n",
    "        dividend\n",
    "    sigma : float\n",
    "        volatility\n",
    "    Returns\n",
    "    =======\n",
    "    call_value : float\n",
    "        European call present value at t\n",
    "    '''\n",
    "    d1 = d1f(St, K, t, T, r, div,sigma)\n",
    "    d2 = d1 - sigma * math.sqrt(T - t)\n",
    "    list = [d1,d2]\n",
    "    \n",
    "    return list\n",
    "def BSM_call_value_new(St, K, t, T, r, div,sigma,Nd1,Nd2):\n",
    "    ''' Calculates Black-Scholes-Merton European call option value.\n",
    "    Parameters\n",
    "    ==========\n",
    "    St : float\n",
    "        stock/index level at time t\n",
    "    K : float\n",
    "        strike price\n",
    "    t : float\n",
    "        valuation date\n",
    "    T : float\n",
    "        date of maturity/time-to-maturity if t = 0; T > t\n",
    "    r : float\n",
    "        constant, risk-less short rate\n",
    "    div : float\n",
    "        dividend\n",
    "    sigma : float\n",
    "        volatility\n",
    "    Returns\n",
    "    =======\n",
    "    call_value : float\n",
    "        European call present value at t\n",
    "    '''\n",
    "    call_value = St *math.exp(-div * (T - t)) * Nd1 - math.exp(-r * (T - t)) * K * Nd2\n",
    "    return call_value\n",
    "def BSM_put_value_new(St, K, t, T, r, div,sigma,Nd3,Nd4):\n",
    "    ''' Calculates Black-Scholes-Merton European call option value.\n",
    "    Parameters\n",
    "    ==========\n",
    "    St : float\n",
    "        stock/index level at time t\n",
    "    K : float\n",
    "        strike price\n",
    "    t : float\n",
    "        valuation date\n",
    "    T : float\n",
    "        date of maturity/time-to-maturity if t = 0; T > t\n",
    "    r : float\n",
    "        constant, risk-less short rate\n",
    "    div : float\n",
    "        dividend\n",
    "    sigma : float\n",
    "        volatility\n",
    "    Returns\n",
    "    =======\n",
    "    call_value : float\n",
    "        European call present value at t\n",
    "    '''\n",
    "    put_value = math.exp(-r * (T - t)) * K * Nd4 - St *math.exp(-div * (T - t)) * Nd3 \n",
    "    return put_value\n",
    "\n",
    "#插值法计算N（d1,d2）\n",
    "def nd_interpolation(high,low,dd,high_p,low_p):\n",
    "    ''' \n",
    "    high: float 比d1进一位\n",
    "    low: float 比d1退一位\n",
    "    dd :float 上述已求出的\n",
    "    high_p:查表出来概率 low_p 同\n",
    "    '''\n",
    "    value = (high-dd)*low_p/(high - low)+(dd-low)*high_p/(high - low)\n",
    "    return value\n",
    "#省略四舍五入\n",
    "def cut(num, c):\n",
    "    c=10**(-c)\n",
    "    return (num//c)*c"
   ]
  },
  {
   "cell_type": "markdown",
   "metadata": {},
   "source": [
    "# BSM利用插值法计算价格"
   ]
  },
  {
   "cell_type": "code",
   "execution_count": 26,
   "metadata": {},
   "outputs": [],
   "source": [
    "# 输入参数\n",
    "S0_BSM = 40  # index level\n",
    "K = 40  # option strike\n",
    "T = 0.5  # maturity date\n",
    "r = 0.05  # risk-less short rate\n",
    "div=0.05 # dividend yield \n",
    "sigma = 0.3  # volatility"
   ]
  },
  {
   "cell_type": "code",
   "execution_count": 27,
   "metadata": {},
   "outputs": [
    {
     "name": "stdout",
     "output_type": "stream",
     "text": [
      "[0.10606601717798213, -0.10606601717798213]\n"
     ]
    }
   ],
   "source": [
    "## Step 1:Call期权价格过程结果详解求 d1 d2\n",
    "print(BSM_call_value_descrpition(S0_BSM, K,0 , T, r, div,sigma))"
   ]
  },
  {
   "cell_type": "markdown",
   "metadata": {},
   "source": [
    "### ！！！计算步骤2 (d1)\n",
    "1. 带入d1\n",
    "2. 查表上下p"
   ]
  },
  {
   "cell_type": "code",
   "execution_count": 28,
   "metadata": {},
   "outputs": [
    {
     "name": "stdout",
     "output_type": "stream",
     "text": [
      "high = 0.11 ---> 查表求分布\n",
      "low = 0.1 ---> 查表求分布\n"
     ]
    }
   ],
   "source": [
    "## Step 2:利用 d1 d2求Nd1Nd2\n",
    "### 插值法输入Nd1参数\n",
    "dd = cut(BSM_call_value_descrpition(S0_BSM, K,0 , T, r, div,sigma)[0],4)#保留四位         \n",
    "low = cut(dd,2) #保留两位\n",
    "high_old =cut(dd,2)+0.01 #保留两位\n",
    "high = round(high_old,2)\n",
    "print('high =',high,'---> 查表求分布')\n",
    "print('low =',low,'---> 查表求分布')\n",
    "high_p = round(N(high),4) #查表\n",
    "low_p = round(N(low),4) #查表\n",
    "# high_p = 0.6064 #查表\n",
    "#low_p = 0.6026 #查表"
   ]
  },
  {
   "cell_type": "markdown",
   "metadata": {},
   "source": [
    "### ！！！计算步骤3 （d2）\n",
    "1. 带入d2\n",
    "2. 查表上下p"
   ]
  },
  {
   "cell_type": "code",
   "execution_count": 29,
   "metadata": {},
   "outputs": [
    {
     "name": "stdout",
     "output_type": "stream",
     "text": [
      "high = -0.1 ---> 查表求分布\n",
      "low = -0.11 ---> 查表求分布\n"
     ]
    }
   ],
   "source": [
    "# 同理插值法输入Nd2参数\n",
    "dd2 =cut(BSM_call_value_descrpition(S0_BSM, K,0 , T, r, div,sigma)[1],4) #保留四位\n",
    "high_old2 =cut(dd2,2)+0.01 #保留两位\n",
    "high2 = round(high_old2,2)\n",
    "low2 = cut(dd2,2) \n",
    "print('high =',high2,'---> 查表求分布')\n",
    "print('low =',low2,'---> 查表求分布')\n",
    "## high_p2 = round(N(high2),4) #查表\n",
    "## low_p2 = round(N(low2),4) #查表\n",
    "high_p2 = 0.6179 #查表\n",
    "low_p2 = 0.6141 #查表"
   ]
  },
  {
   "cell_type": "code",
   "execution_count": 30,
   "metadata": {},
   "outputs": [
    {
     "name": "stdout",
     "output_type": "stream",
     "text": [
      "N(d1) =  0.5422\n",
      "N(-d1) =  0.4578\n"
     ]
    }
   ],
   "source": [
    "'''print('N(d1)原始',nd_interpolation(high,low,dd,high_p,low_p))\n",
    "print('保留四位后',cut(nd_interpolation(high,low,dd,high_p,low_p),4))\n",
    "'''\n",
    "\n",
    "# 计算Nd1\n",
    "Nd1 = round(nd_interpolation(high,low,dd,high_p,low_p),4)\n",
    "##如果二者不想等不对使用下面\n",
    "##Nd2= round(nd_interpolation(high2,low2,dd2,high_p2,low_p2),4)-1\n",
    "\n",
    "Nd3 = round((1- Nd1),4)\n",
    "print('N(d1) = ',Nd1)\n",
    "print('N(-d1) = ',Nd3)"
   ]
  },
  {
   "cell_type": "code",
   "execution_count": 31,
   "metadata": {},
   "outputs": [
    {
     "name": "stdout",
     "output_type": "stream",
     "text": [
      "N(d2) =  0.6156\n",
      "N(-d2) =  0.38439999999999996\n"
     ]
    }
   ],
   "source": [
    "##print('Nd(2)=',nd_interpolation(high2,low2,dd2,high_p2,low_p2))\n",
    "#print('保留四位后',round(nd_interpolation(high2,low2,dd2,high_p2,low_p2),4))\n",
    "\n",
    "Nd2= round(nd_interpolation(high2,low2,dd2,high_p2,low_p2),4)\n",
    "Nd4 = 1 - Nd2 ## N(-d2)  \n",
    "if Nd2+Nd4!=1:\n",
    "    Nd4 +=0.0001\n",
    "print('N(d2) = ',Nd2)\n",
    "print('N(-d2) = ',Nd4)"
   ]
  },
  {
   "cell_type": "code",
   "execution_count": 32,
   "metadata": {},
   "outputs": [
    {
     "name": "stdout",
     "output_type": "stream",
     "text": [
      "Vc =  -2.863509901715183\n"
     ]
    }
   ],
   "source": [
    "## Call期权价格结果 (应试版)\n",
    "answer= BSM_call_value_new(S0_BSM, K,0 , T, r, div,sigma,Nd1,Nd2)\n",
    "print(\"Vc = \",answer)"
   ]
  },
  {
   "cell_type": "markdown",
   "metadata": {},
   "source": [
    "## 计算put"
   ]
  },
  {
   "cell_type": "code",
   "execution_count": 33,
   "metadata": {},
   "outputs": [
    {
     "name": "stdout",
     "output_type": "stream",
     "text": [
      "Vp =  -2.8635\n"
     ]
    }
   ],
   "source": [
    "## 期权价格结果\n",
    "put_answer = round(BSM_put_value_new(S0_BSM, K,0 , T, r, div,sigma,Nd3,Nd4),4)\n",
    "print(\"Vp = \",put_answer)\n"
   ]
  },
  {
   "cell_type": "code",
   "execution_count": 34,
   "metadata": {},
   "outputs": [
    {
     "name": "stdout",
     "output_type": "stream",
     "text": [
      "d1: 0.10606601717798213\n",
      "d2: -0.10606601717798213\n",
      "=============\n",
      "d1_high = 0.11 \n",
      "d1_low = 0.1 \n",
      "d2_high2 = -0.1 \n",
      "d2_low2 = -0.11 \n",
      "=============\n",
      "N(d1) =  0.5422\n",
      "N(d2) =  0.6156\n",
      "N(-d1) =  0.4578\n",
      "N(-d2) =  0.38439999999999996\n",
      "=============\n",
      "Call_option Vc =  -2.863509901715183\n",
      "put_option Vc =  -2.8635\n"
     ]
    }
   ],
   "source": [
    "###答案填空\n",
    "print('d1:',BSM_call_value_descrpition(S0_BSM, K,0 , T, r, div,sigma)[0])\n",
    "print('d2:',BSM_call_value_descrpition(S0_BSM, K,0 , T, r, div,sigma)[1])\n",
    "print('=============')\n",
    "print('d1_high =',high,'')\n",
    "print('d1_low =',low,'')\n",
    "print('d2_high2 =',high2,'')\n",
    "print('d2_low2 =',low2,'')\n",
    "print('=============')\n",
    "print('N(d1) = ',Nd1)\n",
    "print('N(d2) = ',Nd2)\n",
    "print('N(-d1) = ',Nd3)\n",
    "print('N(-d2) = ',Nd4)\n",
    "print('=============')\n",
    "print(\"Call_option Vc = \",answer)\n",
    "print(\"put_option Vc = \",put_answer)"
   ]
  },
  {
   "cell_type": "code",
   "execution_count": null,
   "metadata": {},
   "outputs": [],
   "source": []
  },
  {
   "cell_type": "code",
   "execution_count": null,
   "metadata": {},
   "outputs": [],
   "source": []
  },
  {
   "cell_type": "code",
   "execution_count": null,
   "metadata": {},
   "outputs": [],
   "source": []
  },
  {
   "cell_type": "code",
   "execution_count": null,
   "metadata": {},
   "outputs": [],
   "source": []
  }
 ],
 "metadata": {
  "kernelspec": {
   "display_name": "Python 3",
   "language": "python",
   "name": "python3"
  },
  "language_info": {
   "codemirror_mode": {
    "name": "ipython",
    "version": 3
   },
   "file_extension": ".py",
   "mimetype": "text/x-python",
   "name": "python",
   "nbconvert_exporter": "python",
   "pygments_lexer": "ipython3",
   "version": "3.7.6"
  }
 },
 "nbformat": 4,
 "nbformat_minor": 4
}
